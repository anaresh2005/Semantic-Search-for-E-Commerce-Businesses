{
 "cells": [
  {
   "cell_type": "markdown",
   "id": "6e2a95af-b53d-43ed-81c7-ef40b02fcd40",
   "metadata": {},
   "source": [
    "### Semantic Search for E-Commerce Businesses\n",
    "#### In-Memory Testing of the Tabular Semantic Search"
   ]
  },
  {
   "cell_type": "code",
   "execution_count": 2,
   "id": "0b7f0ee2-0cf3-4206-aa52-a55da90aa450",
   "metadata": {},
   "outputs": [],
   "source": [
    "%load_ext autoreload\n",
    "%autoreload 2"
   ]
  },
  {
   "cell_type": "code",
   "execution_count": 5,
   "id": "a86db3d6-81ce-4b44-a31f-a97af7d9ea1e",
   "metadata": {},
   "outputs": [
    {
     "ename": "TypeError",
     "evalue": "TextSimilaritySpace.__init__() missing 1 required positional argument: 'model'",
     "output_type": "error",
     "traceback": [
      "\u001b[31m---------------------------------------------------------------------------\u001b[39m",
      "\u001b[31mTypeError\u001b[39m                                 Traceback (most recent call last)",
      "\u001b[36mCell\u001b[39m\u001b[36m \u001b[39m\u001b[32mIn[5]\u001b[39m\u001b[32m, line 4\u001b[39m\n\u001b[32m      1\u001b[39m \u001b[38;5;28;01mimport\u001b[39;00m\u001b[38;5;250m \u001b[39m\u001b[34;01mpandas\u001b[39;00m\u001b[38;5;250m \u001b[39m\u001b[38;5;28;01mas\u001b[39;00m\u001b[38;5;250m \u001b[39m\u001b[34;01mpd\u001b[39;00m\n\u001b[32m      2\u001b[39m \u001b[38;5;28;01mimport\u001b[39;00m\u001b[38;5;250m \u001b[39m\u001b[34;01msuperlinked\u001b[39;00m\u001b[34;01m.\u001b[39;00m\u001b[34;01mframework\u001b[39;00m\u001b[38;5;250m \u001b[39m\u001b[38;5;28;01mas\u001b[39;00m\u001b[38;5;250m \u001b[39m\u001b[34;01msl\u001b[39;00m\n\u001b[32m----> \u001b[39m\u001b[32m4\u001b[39m \u001b[38;5;28;01mfrom\u001b[39;00m\u001b[38;5;250m \u001b[39m\u001b[34;01msuperlinked_app\u001b[39;00m\u001b[38;5;250m \u001b[39m\u001b[38;5;28;01mimport\u001b[39;00m index, query\n\u001b[32m      5\u001b[39m \u001b[38;5;28;01mfrom\u001b[39;00m\u001b[38;5;250m \u001b[39m\u001b[34;01msuperlinked_app\u001b[39;00m\u001b[34;01m.\u001b[39;00m\u001b[34;01mconfig\u001b[39;00m\u001b[38;5;250m \u001b[39m\u001b[38;5;28;01mimport\u001b[39;00m settings\n",
      "\u001b[36mFile \u001b[39m\u001b[32m~/Documents/Personal/Semantic Search for E-Commerce Businesses/superlinked_app/index.py:41\u001b[39m\n\u001b[32m     32\u001b[39m category_space = sl.CategoricalSimilaritySpace(\n\u001b[32m     33\u001b[39m     category_input=product.category,\n\u001b[32m     34\u001b[39m     categories=constants.CATEGORIES,\n\u001b[32m     35\u001b[39m     uncategorized_as_category=\u001b[38;5;28;01mTrue\u001b[39;00m,\n\u001b[32m     36\u001b[39m     negative_filter=-\u001b[32m1\u001b[39m,\n\u001b[32m     37\u001b[39m )\n\u001b[32m     40\u001b[39m \u001b[38;5;66;03m# Define the text similarity spaces for title and description using Superlinked's text similarity space definition\u001b[39;00m\n\u001b[32m---> \u001b[39m\u001b[32m41\u001b[39m title_space = \u001b[43msl\u001b[49m\u001b[43m.\u001b[49m\u001b[43mTextSimilaritySpace\u001b[49m\u001b[43m(\u001b[49m\u001b[43mtext\u001b[49m\u001b[43m=\u001b[49m\u001b[43mproduct\u001b[49m\u001b[43m.\u001b[49m\u001b[43mtitle\u001b[49m\u001b[43m,\u001b[49m\u001b[43m \u001b[49m\u001b[43mmodel_handler\u001b[49m\u001b[43m=\u001b[49m\u001b[43mhandler\u001b[49m\u001b[43m)\u001b[49m\n\u001b[32m     43\u001b[39m description_space = sl.TextSimilaritySpace(\n\u001b[32m     44\u001b[39m     text=product.description, model_handler=handler\n\u001b[32m     45\u001b[39m )\n\u001b[32m     47\u001b[39m review_ratings_space = sl.NumberSpace(\n\u001b[32m     48\u001b[39m     number=product.review_ratings, min_value=-\u001b[32m1.0\u001b[39m, max_value=\u001b[32m5.0\u001b[39m, mode=sl.Mode.MAXIMUM\n\u001b[32m     49\u001b[39m )\n",
      "\u001b[31mTypeError\u001b[39m: TextSimilaritySpace.__init__() missing 1 required positional argument: 'model'"
     ]
    }
   ],
   "source": [
    "import pandas as pd\n",
    "import superlinked.framework as sl\n",
    "\n",
    "from superlinked_app import index, query\n",
    "from superlinked_app.config import settings"
   ]
  },
  {
   "cell_type": "code",
   "execution_count": null,
   "id": "8d692114-dde6-48aa-8dc1-e37e6d631a28",
   "metadata": {},
   "outputs": [],
   "source": []
  }
 ],
 "metadata": {
  "kernelspec": {
   "display_name": "Python 3 (ipykernel)",
   "language": "python",
   "name": "python3"
  },
  "language_info": {
   "codemirror_mode": {
    "name": "ipython",
    "version": 3
   },
   "file_extension": ".py",
   "mimetype": "text/x-python",
   "name": "python",
   "nbconvert_exporter": "python",
   "pygments_lexer": "ipython3",
   "version": "3.12.10"
  }
 },
 "nbformat": 4,
 "nbformat_minor": 5
}
