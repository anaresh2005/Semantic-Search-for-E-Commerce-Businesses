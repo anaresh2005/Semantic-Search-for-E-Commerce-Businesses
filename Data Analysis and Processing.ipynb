{
 "cells": [
  {
   "cell_type": "markdown",
   "id": "6e2786ce-34c8-431c-bdc7-cda060c774b9",
   "metadata": {},
   "source": [
    "### Semantic Search for E-Commerce Businesses\n",
    "#### Data Analysis and Processing for the Amazon ESCI Dataset"
   ]
  },
  {
   "cell_type": "code",
   "execution_count": 1,
   "id": "9c412329-87ca-4dcb-b5cc-f878a0a8496e",
   "metadata": {},
   "outputs": [],
   "source": [
    "import pandas as pd"
   ]
  },
  {
   "cell_type": "code",
   "execution_count": 7,
   "id": "76752d6d-2657-45cb-838d-48865eb4668b",
   "metadata": {},
   "outputs": [],
   "source": [
    "df = pd.read_json(\"data/sample.json\", lines=True)"
   ]
  },
  {
   "cell_type": "code",
   "execution_count": 9,
   "id": "c8a4cd18-5b12-4473-ae0d-9b4741e9bed9",
   "metadata": {},
   "outputs": [
    {
     "data": {
      "text/html": [
       "<div>\n",
       "<style scoped>\n",
       "    .dataframe tbody tr th:only-of-type {\n",
       "        vertical-align: middle;\n",
       "    }\n",
       "\n",
       "    .dataframe tbody tr th {\n",
       "        vertical-align: top;\n",
       "    }\n",
       "\n",
       "    .dataframe thead th {\n",
       "        text-align: right;\n",
       "    }\n",
       "</style>\n",
       "<table border=\"1\" class=\"dataframe\">\n",
       "  <thead>\n",
       "    <tr style=\"text-align: right;\">\n",
       "      <th></th>\n",
       "      <th>type</th>\n",
       "      <th>locale</th>\n",
       "      <th>asin</th>\n",
       "      <th>title</th>\n",
       "      <th>stars</th>\n",
       "      <th>ratings</th>\n",
       "      <th>category</th>\n",
       "      <th>attrs</th>\n",
       "      <th>bullets</th>\n",
       "      <th>description</th>\n",
       "      <th>...</th>\n",
       "      <th>reviews</th>\n",
       "      <th>price</th>\n",
       "      <th>formats</th>\n",
       "      <th>template</th>\n",
       "      <th>subtitle</th>\n",
       "      <th>author</th>\n",
       "      <th>desc</th>\n",
       "      <th>attr</th>\n",
       "      <th>review</th>\n",
       "      <th>error</th>\n",
       "    </tr>\n",
       "  </thead>\n",
       "  <tbody>\n",
       "    <tr>\n",
       "      <th>0</th>\n",
       "      <td>product</td>\n",
       "      <td>jp</td>\n",
       "      <td>B083TX3PNH</td>\n",
       "      <td>[コロンブス] 水のいらない汚れ落とし スニーカーケアスプレーフォームシャンプー メンズ</td>\n",
       "      <td>3.7 out of 5 stars</td>\n",
       "      <td>220 ratings</td>\n",
       "      <td>[Clothing, Shoes &amp; Jewelry, Shoe, Jewelry &amp; Wa...</td>\n",
       "      <td>{}</td>\n",
       "      <td>[Date First Available ‏ : ‎ February 17, 2020,...</td>\n",
       "      <td>From the Manufacturer</td>\n",
       "      <td>...</td>\n",
       "      <td>[{'stars': '4.0 out of 5 stars', 'title': 'Nic...</td>\n",
       "      <td></td>\n",
       "      <td>{}</td>\n",
       "      <td>shoes</td>\n",
       "      <td>NaN</td>\n",
       "      <td>NaN</td>\n",
       "      <td>NaN</td>\n",
       "      <td>NaN</td>\n",
       "      <td>NaN</td>\n",
       "      <td>NaN</td>\n",
       "    </tr>\n",
       "    <tr>\n",
       "      <th>1</th>\n",
       "      <td>product</td>\n",
       "      <td>us</td>\n",
       "      <td>B07C1NJF6T</td>\n",
       "      <td>Rekayla Open Toe Tie Up Ankle Wrap Flat Sandal...</td>\n",
       "      <td>4.2 out of 5 stars</td>\n",
       "      <td>5,656 ratings</td>\n",
       "      <td>[Clothing, Shoes &amp; Jewelry, Women, Shoes, Sand...</td>\n",
       "      <td>{}</td>\n",
       "      <td>[]</td>\n",
       "      <td>From the brand Previous page REKAYLA is a fres...</td>\n",
       "      <td>...</td>\n",
       "      <td>[{'stars': '4.0 out of 5 stars', 'title': 'Fin...</td>\n",
       "      <td></td>\n",
       "      <td>{}</td>\n",
       "      <td>shoes</td>\n",
       "      <td>NaN</td>\n",
       "      <td>NaN</td>\n",
       "      <td>NaN</td>\n",
       "      <td>NaN</td>\n",
       "      <td>NaN</td>\n",
       "      <td>NaN</td>\n",
       "    </tr>\n",
       "  </tbody>\n",
       "</table>\n",
       "<p>2 rows × 21 columns</p>\n",
       "</div>"
      ],
      "text/plain": [
       "      type locale        asin  \\\n",
       "0  product     jp  B083TX3PNH   \n",
       "1  product     us  B07C1NJF6T   \n",
       "\n",
       "                                               title               stars  \\\n",
       "0       [コロンブス] 水のいらない汚れ落とし スニーカーケアスプレーフォームシャンプー メンズ  3.7 out of 5 stars   \n",
       "1  Rekayla Open Toe Tie Up Ankle Wrap Flat Sandal...  4.2 out of 5 stars   \n",
       "\n",
       "         ratings                                           category attrs  \\\n",
       "0    220 ratings  [Clothing, Shoes & Jewelry, Shoe, Jewelry & Wa...    {}   \n",
       "1  5,656 ratings  [Clothing, Shoes & Jewelry, Women, Shoes, Sand...    {}   \n",
       "\n",
       "                                             bullets  \\\n",
       "0  [Date First Available ‏ : ‎ February 17, 2020,...   \n",
       "1                                                 []   \n",
       "\n",
       "                                         description  ...  \\\n",
       "0                              From the Manufacturer  ...   \n",
       "1  From the brand Previous page REKAYLA is a fres...  ...   \n",
       "\n",
       "                                             reviews price formats template  \\\n",
       "0  [{'stars': '4.0 out of 5 stars', 'title': 'Nic...            {}    shoes   \n",
       "1  [{'stars': '4.0 out of 5 stars', 'title': 'Fin...            {}    shoes   \n",
       "\n",
       "  subtitle author desc attr review error  \n",
       "0      NaN    NaN  NaN  NaN    NaN   NaN  \n",
       "1      NaN    NaN  NaN  NaN    NaN   NaN  \n",
       "\n",
       "[2 rows x 21 columns]"
      ]
     },
     "execution_count": 9,
     "metadata": {},
     "output_type": "execute_result"
    }
   ],
   "source": [
    "df.head(2)"
   ]
  },
  {
   "cell_type": "code",
   "execution_count": 12,
   "id": "ca850b93-91f9-4470-9049-cc8051f74700",
   "metadata": {},
   "outputs": [
    {
     "name": "stdout",
     "output_type": "stream",
     "text": [
      "---Dataset Overview---\n",
      "<class 'pandas.core.frame.DataFrame'>\n",
      "RangeIndex: 4487 entries, 0 to 4486\n",
      "Data columns (total 21 columns):\n",
      " #   Column       Non-Null Count  Dtype \n",
      "---  ------       --------------  ----- \n",
      " 0   type         4487 non-null   object\n",
      " 1   locale       4487 non-null   object\n",
      " 2   asin         4487 non-null   object\n",
      " 3   title        4321 non-null   object\n",
      " 4   stars        4321 non-null   object\n",
      " 5   ratings      4321 non-null   object\n",
      " 6   category     4321 non-null   object\n",
      " 7   attrs        4015 non-null   object\n",
      " 8   bullets      4015 non-null   object\n",
      " 9   description  4015 non-null   object\n",
      " 10  info         4015 non-null   object\n",
      " 11  reviews      4321 non-null   object\n",
      " 12  price        4321 non-null   object\n",
      " 13  formats      4321 non-null   object\n",
      " 14  template     4487 non-null   object\n",
      " 15  subtitle     306 non-null    object\n",
      " 16  author       306 non-null    object\n",
      " 17  desc         306 non-null    object\n",
      " 18  attr         306 non-null    object\n",
      " 19  review       306 non-null    object\n",
      " 20  error        166 non-null    object\n",
      "dtypes: object(21)\n",
      "memory usage: 736.3+ KB\n",
      "None\n"
     ]
    }
   ],
   "source": [
    "print(\"---Dataset Overview---\")\n",
    "print(df.info())"
   ]
  },
  {
   "cell_type": "code",
   "execution_count": 13,
   "id": "7322c7db-a174-41dc-9ff7-592de18920e4",
   "metadata": {},
   "outputs": [
    {
     "name": "stdout",
     "output_type": "stream",
     "text": [
      "---Product Type Distribution---\n",
      "type\n",
      "product    4015\n",
      "book        306\n",
      "error       166\n",
      "Name: count, dtype: int64\n"
     ]
    }
   ],
   "source": [
    "print(\"---Product Type Distribution---\")\n",
    "print(df[\"type\"].value_counts())"
   ]
  },
  {
   "cell_type": "code",
   "execution_count": 14,
   "id": "d2143e7b-9c6f-43f5-805b-87698871d350",
   "metadata": {},
   "outputs": [
    {
     "name": "stdout",
     "output_type": "stream",
     "text": [
      "---Locale Distribution---\n",
      "locale\n",
      "us    3010\n",
      "jp     838\n",
      "es     639\n",
      "Name: count, dtype: int64\n"
     ]
    }
   ],
   "source": [
    "print(\"---Locale Distribution---\")\n",
    "print(df[\"locale\"].value_counts())"
   ]
  },
  {
   "cell_type": "code",
   "execution_count": 31,
   "id": "e212e7e3-449f-4b94-b281-ec783a1654b3",
   "metadata": {},
   "outputs": [
    {
     "data": {
      "text/plain": [
       "array(['product', 'book', 'error'], dtype=object)"
      ]
     },
     "execution_count": 31,
     "metadata": {},
     "output_type": "execute_result"
    }
   ],
   "source": [
    "type(df[\"type\"])\n",
    "df[\"type\"].unique()"
   ]
  },
  {
   "cell_type": "code",
   "execution_count": 26,
   "id": "bc9b9a4f-2eb8-45e4-9d30-2008ddddc02a",
   "metadata": {},
   "outputs": [],
   "source": []
  },
  {
   "cell_type": "code",
   "execution_count": 20,
   "id": "5e9abf3d-ebb8-44fa-812d-07f11a24b58c",
   "metadata": {},
   "outputs": [
    {
     "data": {
      "text/plain": [
       "'220 ratings'"
      ]
     },
     "execution_count": 20,
     "metadata": {},
     "output_type": "execute_result"
    }
   ],
   "source": [
    "def "
   ]
  },
  {
   "cell_type": "code",
   "execution_count": null,
   "id": "00d7bca6-f488-4a06-91c8-cf3e9c769f8a",
   "metadata": {},
   "outputs": [],
   "source": []
  }
 ],
 "metadata": {
  "kernelspec": {
   "display_name": "Python 3 (ipykernel)",
   "language": "python",
   "name": "python3"
  },
  "language_info": {
   "codemirror_mode": {
    "name": "ipython",
    "version": 3
   },
   "file_extension": ".py",
   "mimetype": "text/x-python",
   "name": "python",
   "nbconvert_exporter": "python",
   "pygments_lexer": "ipython3",
   "version": "3.13.5"
  }
 },
 "nbformat": 4,
 "nbformat_minor": 5
}
